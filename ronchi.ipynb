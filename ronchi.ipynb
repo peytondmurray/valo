{
 "cells": [
  {
   "cell_type": "code",
   "execution_count": 1,
   "id": "1dacd325-d4b8-40bd-838c-08de63d00160",
   "metadata": {
    "execution": {
     "iopub.execute_input": "2023-02-26T21:21:20.109539Z",
     "iopub.status.busy": "2023-02-26T21:21:20.109107Z",
     "iopub.status.idle": "2023-02-26T21:21:20.642761Z",
     "shell.execute_reply": "2023-02-26T21:21:20.640434Z",
     "shell.execute_reply.started": "2023-02-26T21:21:20.109444Z"
    },
    "tags": []
   },
   "outputs": [],
   "source": [
    "import numpy as np\n",
    "import scipy.interpolate as si\n",
    "import matplotlib.pyplot as plt\n",
    "plt.style.use('dark_background')"
   ]
  },
  {
   "cell_type": "code",
   "execution_count": 2,
   "id": "90079c09-85ac-4c66-ab17-f23d1c54fcd7",
   "metadata": {
    "execution": {
     "iopub.execute_input": "2023-02-26T21:21:20.651891Z",
     "iopub.status.busy": "2023-02-26T21:21:20.651524Z",
     "iopub.status.idle": "2023-02-26T21:21:20.658822Z",
     "shell.execute_reply": "2023-02-26T21:21:20.657855Z",
     "shell.execute_reply.started": "2023-02-26T21:21:20.651853Z"
    },
    "tags": []
   },
   "outputs": [],
   "source": [
    "def ronchi(n, m, d, phi, xoff, neg=False):\n",
    "    x, y = np.meshgrid(np.arange(n), np.arange(m))\n",
    "    xp = x*np.cos(phi*np.pi/180) + y*np.sin(phi*np.pi/180) + xoff\n",
    "    b = np.floor(xp/d)\n",
    "    return np.bitwise_xor(~np.abs(b % 2).astype(bool), neg)"
   ]
  },
  {
   "cell_type": "code",
   "execution_count": 3,
   "id": "59257283-931f-4454-9e89-72a465f589fe",
   "metadata": {
    "execution": {
     "iopub.execute_input": "2023-02-26T21:21:20.660785Z",
     "iopub.status.busy": "2023-02-26T21:21:20.660401Z",
     "iopub.status.idle": "2023-02-26T21:21:20.892162Z",
     "shell.execute_reply": "2023-02-26T21:21:20.891569Z",
     "shell.execute_reply.started": "2023-02-26T21:21:20.660747Z"
    },
    "tags": []
   },
   "outputs": [
    {
     "data": {
      "text/plain": [
       "<matplotlib.image.AxesImage at 0x7f5ab3730210>"
      ]
     },
     "execution_count": 3,
     "metadata": {},
     "output_type": "execute_result"
    },
    {
     "data": {
      "image/png": "[encoded data removed]",
      "text/plain": [
       "<Figure size 1000x1000 with 1 Axes>"
      ]
     },
     "metadata": {},
     "output_type": "display_data"
    }
   ],
   "source": [
    "fig, ax = plt.subplots(1, 1, figsize=(10, 10))\n",
    "\n",
    "nxy = 200\n",
    "r = ronchi(nxy, nxy, 10, 20, 0)\n",
    "ax.imshow(r, interpolation='none', origin='lower', )"
   ]
  },
  {
   "cell_type": "code",
   "execution_count": 4,
   "id": "18af3014-b427-4900-85e2-b4d412f02101",
   "metadata": {
    "execution": {
     "iopub.execute_input": "2023-02-26T21:21:20.893630Z",
     "iopub.status.busy": "2023-02-26T21:21:20.893330Z",
     "iopub.status.idle": "2023-02-26T21:21:20.899460Z",
     "shell.execute_reply": "2023-02-26T21:21:20.898992Z",
     "shell.execute_reply.started": "2023-02-26T21:21:20.893614Z"
    },
    "tags": []
   },
   "outputs": [],
   "source": [
    "def ronchigram(a, f, d, zoff, phi, sph, coma, astig, defocus, n, m, neg=False, xsize=1):\n",
    "    # normalize variables\n",
    "    fn = f/a\n",
    "    zn = zoff/a\n",
    "    dn = d/a\n",
    "    \n",
    "    # calculate defocus\n",
    "    rn = 2*fn\n",
    "    \n",
    "    # calculate magnification\n",
    "    if (zn == 0):\n",
    "        mag = -rn\n",
    "    else:\n",
    "        mag = -rn/zn\n",
    "        \n",
    "    # define the normal coordinates\n",
    "    x, y = np.meshgrid(np.linspace(-1, 1, n), np.linspace(-1, 1, m))\n",
    "    \n",
    "    # calculate the aberrated coordinates\n",
    "    xa = x-mag*rn*(4*sph*x*(x**2 + y**2) + 2*coma*x*y + 2*astig*x + 2*defocus*x)\n",
    "    ya = y-mag*rn*(4*sph*x*(x**2 + y**2) + coma*x**2 + 3*coma*y**2 + 6*astig*y + 2*defocus*y)\n",
    "    \n",
    "    # define the ronchi ruling pitch in pixels\n",
    "    d1max = np.max(xsize*dn*np.abs(mag))\n",
    "    d1 = np.round(np.where(d1max > 1, d1max, 1))\n",
    "    \n",
    "    # set a maximum normalized aberrated coordinates big enough to accommodate the abberated coordinates\n",
    "    c = 2\n",
    "    \n",
    "    # redefine the magnified coordinates\n",
    "    xm, ym = np.meshgrid(np.linspace(-c, c, c*n), np.linspace(-c, c, c*m))\n",
    "    \n",
    "    # xoff in pixels\n",
    "    # o1 = c*xsize*mag*xoff\n",
    "    o1 = c*xsize*mag*zoff\n",
    "    \n",
    "    # calculate the magnified ronchi ruling\n",
    "    g1 = ronchi(c*n, c*m, d1, phi, o1, neg)\n",
    "    \n",
    "    # interpolate the ruling function on aberrated coordinates\n",
    "    return si.griddata(\n",
    "        (x.flatten(), y.flatten()), \n",
    "        g1.flatten(),\n",
    "        (xa, ya)\n",
    "    )"
   ]
  },
  {
   "cell_type": "code",
   "execution_count": 5,
   "id": "8d12d382-d433-4735-9e4c-893621ebe728",
   "metadata": {
    "execution": {
     "iopub.execute_input": "2023-02-26T21:21:20.900175Z",
     "iopub.status.busy": "2023-02-26T21:21:20.900020Z",
     "iopub.status.idle": "2023-02-26T21:21:21.126840Z",
     "shell.execute_reply": "2023-02-26T21:21:21.125919Z",
     "shell.execute_reply.started": "2023-02-26T21:21:20.900160Z"
    },
    "tags": []
   },
   "outputs": [
    {
     "ename": "ValueError",
     "evalue": "different number of values and points",
     "output_type": "error",
     "traceback": [
      "\u001b[0;31m---------------------------------------------------------------------------\u001b[0m",
      "\u001b[0;31mValueError\u001b[0m                                Traceback (most recent call last)",
      "Cell \u001b[0;32mIn [5], line 1\u001b[0m\n\u001b[0;32m----> 1\u001b[0m rg \u001b[38;5;241m=\u001b[39m \u001b[43mronchigram\u001b[49m\u001b[43m(\u001b[49m\u001b[43ma\u001b[49m\u001b[38;5;241;43m=\u001b[39;49m\u001b[38;5;241;43m25\u001b[39;49m\u001b[43m,\u001b[49m\u001b[43m \u001b[49m\u001b[43mf\u001b[49m\u001b[38;5;241;43m=\u001b[39;49m\u001b[38;5;241;43m200\u001b[39;49m\u001b[43m,\u001b[49m\u001b[43m \u001b[49m\u001b[43md\u001b[49m\u001b[38;5;241;43m=\u001b[39;49m\u001b[38;5;241;43m0.1\u001b[39;49m\u001b[43m,\u001b[49m\u001b[43m \u001b[49m\u001b[43mzoff\u001b[49m\u001b[38;5;241;43m=\u001b[39;49m\u001b[38;5;241;43m-\u001b[39;49m\u001b[38;5;241;43m30\u001b[39;49m\u001b[43m,\u001b[49m\u001b[43m \u001b[49m\u001b[43mphi\u001b[49m\u001b[38;5;241;43m=\u001b[39;49m\u001b[38;5;241;43m0\u001b[39;49m\u001b[43m,\u001b[49m\u001b[43m \u001b[49m\u001b[43msph\u001b[49m\u001b[38;5;241;43m=\u001b[39;49m\u001b[38;5;241;43m0\u001b[39;49m\u001b[43m,\u001b[49m\u001b[43m \u001b[49m\u001b[43mcoma\u001b[49m\u001b[38;5;241;43m=\u001b[39;49m\u001b[38;5;241;43m0\u001b[39;49m\u001b[43m,\u001b[49m\u001b[43m \u001b[49m\u001b[43mastig\u001b[49m\u001b[38;5;241;43m=\u001b[39;49m\u001b[38;5;241;43m0\u001b[39;49m\u001b[43m,\u001b[49m\u001b[43m \u001b[49m\u001b[43mdefocus\u001b[49m\u001b[38;5;241;43m=\u001b[39;49m\u001b[38;5;241;43m0\u001b[39;49m\u001b[43m,\u001b[49m\u001b[43m \u001b[49m\u001b[43mn\u001b[49m\u001b[38;5;241;43m=\u001b[39;49m\u001b[38;5;241;43m200\u001b[39;49m\u001b[43m,\u001b[49m\u001b[43m \u001b[49m\u001b[43mm\u001b[49m\u001b[38;5;241;43m=\u001b[39;49m\u001b[38;5;241;43m200\u001b[39;49m\u001b[43m,\u001b[49m\u001b[43m \u001b[49m\u001b[43mneg\u001b[49m\u001b[38;5;241;43m=\u001b[39;49m\u001b[38;5;28;43;01mFalse\u001b[39;49;00m\u001b[43m,\u001b[49m\u001b[43m \u001b[49m\u001b[43mxsize\u001b[49m\u001b[38;5;241;43m=\u001b[39;49m\u001b[38;5;241;43m1\u001b[39;49m\u001b[43m)\u001b[49m\n\u001b[1;32m      3\u001b[0m fig, ax \u001b[38;5;241m=\u001b[39m plt\u001b[38;5;241m.\u001b[39msubplots(\u001b[38;5;241m1\u001b[39m, \u001b[38;5;241m1\u001b[39m, figsize\u001b[38;5;241m=\u001b[39m(\u001b[38;5;241m10\u001b[39m, \u001b[38;5;241m10\u001b[39m))\n\u001b[1;32m      4\u001b[0m ax\u001b[38;5;241m.\u001b[39mimshow(rg, origin\u001b[38;5;241m=\u001b[39m\u001b[38;5;124m'\u001b[39m\u001b[38;5;124mlower\u001b[39m\u001b[38;5;124m'\u001b[39m, interpolation\u001b[38;5;241m=\u001b[39m\u001b[38;5;124m'\u001b[39m\u001b[38;5;124mnone\u001b[39m\u001b[38;5;124m'\u001b[39m)\n",
      "Cell \u001b[0;32mIn [4], line 41\u001b[0m, in \u001b[0;36mronchigram\u001b[0;34m(a, f, d, zoff, phi, sph, coma, astig, defocus, n, m, neg, xsize)\u001b[0m\n\u001b[1;32m     38\u001b[0m g1 \u001b[38;5;241m=\u001b[39m ronchi(c\u001b[38;5;241m*\u001b[39mn, c\u001b[38;5;241m*\u001b[39mm, d1, phi, o1, neg)\n\u001b[1;32m     40\u001b[0m \u001b[38;5;66;03m# interpolate the ruling function on aberrated coordinates\u001b[39;00m\n\u001b[0;32m---> 41\u001b[0m \u001b[38;5;28;01mreturn\u001b[39;00m \u001b[43msi\u001b[49m\u001b[38;5;241;43m.\u001b[39;49m\u001b[43mgriddata\u001b[49m\u001b[43m(\u001b[49m\n\u001b[1;32m     42\u001b[0m \u001b[43m    \u001b[49m\u001b[43m(\u001b[49m\u001b[43mx\u001b[49m\u001b[38;5;241;43m.\u001b[39;49m\u001b[43mflatten\u001b[49m\u001b[43m(\u001b[49m\u001b[43m)\u001b[49m\u001b[43m,\u001b[49m\u001b[43m \u001b[49m\u001b[43my\u001b[49m\u001b[38;5;241;43m.\u001b[39;49m\u001b[43mflatten\u001b[49m\u001b[43m(\u001b[49m\u001b[43m)\u001b[49m\u001b[43m)\u001b[49m\u001b[43m,\u001b[49m\u001b[43m \u001b[49m\n\u001b[1;32m     43\u001b[0m \u001b[43m    \u001b[49m\u001b[43mg1\u001b[49m\u001b[38;5;241;43m.\u001b[39;49m\u001b[43mflatten\u001b[49m\u001b[43m(\u001b[49m\u001b[43m)\u001b[49m\u001b[43m,\u001b[49m\n\u001b[1;32m     44\u001b[0m \u001b[43m    \u001b[49m\u001b[43m(\u001b[49m\u001b[43mxa\u001b[49m\u001b[43m,\u001b[49m\u001b[43m \u001b[49m\u001b[43mya\u001b[49m\u001b[43m)\u001b[49m\n\u001b[1;32m     45\u001b[0m \u001b[43m\u001b[49m\u001b[43m)\u001b[49m\n",
      "File \u001b[0;32m~/.pyenv/versions/3.11.0/lib/python3.11/site-packages/scipy/interpolate/_ndgriddata.py:264\u001b[0m, in \u001b[0;36mgriddata\u001b[0;34m(points, values, xi, method, fill_value, rescale)\u001b[0m\n\u001b[1;32m    262\u001b[0m     \u001b[38;5;28;01mreturn\u001b[39;00m ip(xi)\n\u001b[1;32m    263\u001b[0m \u001b[38;5;28;01melif\u001b[39;00m method \u001b[38;5;241m==\u001b[39m \u001b[38;5;124m'\u001b[39m\u001b[38;5;124mlinear\u001b[39m\u001b[38;5;124m'\u001b[39m:\n\u001b[0;32m--> 264\u001b[0m     ip \u001b[38;5;241m=\u001b[39m \u001b[43mLinearNDInterpolator\u001b[49m\u001b[43m(\u001b[49m\u001b[43mpoints\u001b[49m\u001b[43m,\u001b[49m\u001b[43m \u001b[49m\u001b[43mvalues\u001b[49m\u001b[43m,\u001b[49m\u001b[43m \u001b[49m\u001b[43mfill_value\u001b[49m\u001b[38;5;241;43m=\u001b[39;49m\u001b[43mfill_value\u001b[49m\u001b[43m,\u001b[49m\n\u001b[1;32m    265\u001b[0m \u001b[43m                              \u001b[49m\u001b[43mrescale\u001b[49m\u001b[38;5;241;43m=\u001b[39;49m\u001b[43mrescale\u001b[49m\u001b[43m)\u001b[49m\n\u001b[1;32m    266\u001b[0m     \u001b[38;5;28;01mreturn\u001b[39;00m ip(xi)\n\u001b[1;32m    267\u001b[0m \u001b[38;5;28;01melif\u001b[39;00m method \u001b[38;5;241m==\u001b[39m \u001b[38;5;124m'\u001b[39m\u001b[38;5;124mcubic\u001b[39m\u001b[38;5;124m'\u001b[39m \u001b[38;5;129;01mand\u001b[39;00m ndim \u001b[38;5;241m==\u001b[39m \u001b[38;5;241m2\u001b[39m:\n",
      "File \u001b[0;32minterpnd.pyx:278\u001b[0m, in \u001b[0;36mscipy.interpolate.interpnd.LinearNDInterpolator.__init__\u001b[0;34m()\u001b[0m\n",
      "File \u001b[0;32minterpnd.pyx:78\u001b[0m, in \u001b[0;36mscipy.interpolate.interpnd.NDInterpolatorBase.__init__\u001b[0;34m()\u001b[0m\n",
      "File \u001b[0;32minterpnd.pyx:192\u001b[0m, in \u001b[0;36mscipy.interpolate.interpnd._check_init_shape\u001b[0;34m()\u001b[0m\n",
      "\u001b[0;31mValueError\u001b[0m: different number of values and points"
     ]
    }
   ],
   "source": [
    "rg = ronchigram(a=25, f=200, d=0.1, zoff=-30, phi=0, sph=0, coma=0, astig=0, defocus=0, n=200, m=200, neg=False, xsize=1)\n",
    "\n",
    "fig, ax = plt.subplots(1, 1, figsize=(10, 10))\n",
    "ax.imshow(rg, origin='lower', interpolation='none')"
   ]
  },
  {
   "cell_type": "code",
   "execution_count": null,
   "id": "920b686d-4cd1-4dcf-99c3-d82cb53c9e28",
   "metadata": {},
   "outputs": [],
   "source": []
  }
 ],
 "metadata": {
  "kernelspec": {
   "display_name": "Python 3 (ipykernel)",
   "language": "python",
   "name": "python3"
  },
  "language_info": {
   "codemirror_mode": {
    "name": "ipython",
    "version": 3
   },
   "file_extension": ".py",
   "mimetype": "text/x-python",
   "name": "python",
   "nbconvert_exporter": "python",
   "pygments_lexer": "ipython3",
   "version": "3.11.0"
  }
 },
 "nbformat": 4,
 "nbformat_minor": 5
}
